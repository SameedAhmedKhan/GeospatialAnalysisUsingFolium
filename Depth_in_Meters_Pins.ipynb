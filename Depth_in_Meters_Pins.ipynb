{
  "nbformat": 4,
  "nbformat_minor": 0,
  "metadata": {
    "accelerator": "GPU",
    "colab": {
      "name": "Depth in Meters Pins.ipynb",
      "provenance": []
    },
    "kernelspec": {
      "display_name": "Python 3",
      "language": "python",
      "name": "python3"
    },
    "language_info": {
      "codemirror_mode": {
        "name": "ipython",
        "version": 3
      },
      "file_extension": ".py",
      "mimetype": "text/x-python",
      "name": "python",
      "nbconvert_exporter": "python",
      "pygments_lexer": "ipython3",
      "version": "3.7.9"
    }
  },
  "cells": [
    {
      "cell_type": "markdown",
      "metadata": {
        "id": "8ONxE6n4I8If"
      },
      "source": [
        "## Description:\n",
        "\n",
        "The program basically focuses on analysis of various features with respect to their location on the map. The data has been observed and cleaned in the starting of the notebook and then it has been visualized through interactive plots at the end.\n",
        "\n",
        "The dataset in this notebook is from 1996 - 2000."
      ]
    },
    {
      "cell_type": "markdown",
      "metadata": {
        "id": "Qnv5K3SoI8Ig"
      },
      "source": [
        "## How to use:\n",
        "\n",
        "The program is pretty simple to use since we're using a markdown. First of all you should have a Jupyter Notebook to open the ipynb or alternatively you can access the file by uploading on google drive. Make sure you have following libraries installed:\n",
        "\n",
        "Pandas\n",
        "\n",
        "Numpy\n",
        "\n",
        "SkLearn\n",
        "\n",
        "Folium"
      ]
    },
    {
      "cell_type": "code",
      "metadata": {
        "id": "M3tvwiicI8Ig"
      },
      "source": [
        "import numpy as np\n",
        "import pandas as pd\n",
        "import folium\n",
        "from sklearn import preprocessing\n",
        "from folium.plugins import HeatMap"
      ],
      "execution_count": null,
      "outputs": []
    },
    {
      "cell_type": "code",
      "metadata": {
        "id": "FSBAGj1xI8Ig"
      },
      "source": [
        "data_btl = pd.read_csv('cst_btl_FinalDataset.csv')\n",
        "data_btl = data_btl.loc[data_btl['Date']<'2000-01-01']"
      ],
      "execution_count": null,
      "outputs": []
    },
    {
      "cell_type": "code",
      "metadata": {
        "colab": {
          "base_uri": "https://localhost:8080/",
          "height": 204
        },
        "id": "-DvFXEhNI8Ih",
        "outputId": "5d95ece0-eeec-4775-d4e0-ba4f04ee9394"
      },
      "source": [
        "data_btl.head()"
      ],
      "execution_count": null,
      "outputs": [
        {
          "data": {
            "text/html": [
              "<div>\n",
              "<style scoped>\n",
              "    .dataframe tbody tr th:only-of-type {\n",
              "        vertical-align: middle;\n",
              "    }\n",
              "\n",
              "    .dataframe tbody tr th {\n",
              "        vertical-align: top;\n",
              "    }\n",
              "\n",
              "    .dataframe thead th {\n",
              "        text-align: right;\n",
              "    }\n",
              "</style>\n",
              "<table border=\"1\" class=\"dataframe\">\n",
              "  <thead>\n",
              "    <tr style=\"text-align: right;\">\n",
              "      <th></th>\n",
              "      <th>Cst_Cnt</th>\n",
              "      <th>Date</th>\n",
              "      <th>latitude</th>\n",
              "      <th>longitude</th>\n",
              "      <th>Btl_Cnt</th>\n",
              "      <th>Depthm</th>\n",
              "      <th>T_degC</th>\n",
              "      <th>Salnty</th>\n",
              "      <th>ChlorA</th>\n",
              "      <th>PO4uM</th>\n",
              "      <th>NO2uM</th>\n",
              "      <th>NO3uM</th>\n",
              "    </tr>\n",
              "  </thead>\n",
              "  <tbody>\n",
              "    <tr>\n",
              "      <th>0</th>\n",
              "      <td>28108</td>\n",
              "      <td>1996-01-30</td>\n",
              "      <td>32.953333</td>\n",
              "      <td>-117.306666</td>\n",
              "      <td>691492</td>\n",
              "      <td>0</td>\n",
              "      <td>13.86</td>\n",
              "      <td>33.390</td>\n",
              "      <td>3.04</td>\n",
              "      <td>0.22</td>\n",
              "      <td>0.01</td>\n",
              "      <td>0.0</td>\n",
              "    </tr>\n",
              "    <tr>\n",
              "      <th>1</th>\n",
              "      <td>28108</td>\n",
              "      <td>1996-01-30</td>\n",
              "      <td>32.953333</td>\n",
              "      <td>-117.306666</td>\n",
              "      <td>691493</td>\n",
              "      <td>2</td>\n",
              "      <td>13.86</td>\n",
              "      <td>33.398</td>\n",
              "      <td>3.04</td>\n",
              "      <td>0.22</td>\n",
              "      <td>0.01</td>\n",
              "      <td>0.0</td>\n",
              "    </tr>\n",
              "    <tr>\n",
              "      <th>2</th>\n",
              "      <td>28108</td>\n",
              "      <td>1996-01-30</td>\n",
              "      <td>32.953333</td>\n",
              "      <td>-117.306666</td>\n",
              "      <td>691494</td>\n",
              "      <td>5</td>\n",
              "      <td>13.85</td>\n",
              "      <td>33.398</td>\n",
              "      <td>2.87</td>\n",
              "      <td>0.22</td>\n",
              "      <td>0.01</td>\n",
              "      <td>0.0</td>\n",
              "    </tr>\n",
              "    <tr>\n",
              "      <th>3</th>\n",
              "      <td>28108</td>\n",
              "      <td>1996-01-30</td>\n",
              "      <td>32.953333</td>\n",
              "      <td>-117.306666</td>\n",
              "      <td>691495</td>\n",
              "      <td>10</td>\n",
              "      <td>13.75</td>\n",
              "      <td>33.398</td>\n",
              "      <td>3.04</td>\n",
              "      <td>0.23</td>\n",
              "      <td>0.01</td>\n",
              "      <td>0.0</td>\n",
              "    </tr>\n",
              "    <tr>\n",
              "      <th>4</th>\n",
              "      <td>28108</td>\n",
              "      <td>1996-01-30</td>\n",
              "      <td>32.953333</td>\n",
              "      <td>-117.306666</td>\n",
              "      <td>691496</td>\n",
              "      <td>15</td>\n",
              "      <td>13.33</td>\n",
              "      <td>33.409</td>\n",
              "      <td>6.84</td>\n",
              "      <td>0.36</td>\n",
              "      <td>0.08</td>\n",
              "      <td>0.8</td>\n",
              "    </tr>\n",
              "  </tbody>\n",
              "</table>\n",
              "</div>"
            ],
            "text/plain": [
              "   Cst_Cnt        Date   latitude   longitude  Btl_Cnt  Depthm  T_degC  \\\n",
              "0    28108  1996-01-30  32.953333 -117.306666   691492       0   13.86   \n",
              "1    28108  1996-01-30  32.953333 -117.306666   691493       2   13.86   \n",
              "2    28108  1996-01-30  32.953333 -117.306666   691494       5   13.85   \n",
              "3    28108  1996-01-30  32.953333 -117.306666   691495      10   13.75   \n",
              "4    28108  1996-01-30  32.953333 -117.306666   691496      15   13.33   \n",
              "\n",
              "   Salnty  ChlorA  PO4uM  NO2uM  NO3uM  \n",
              "0  33.390    3.04   0.22   0.01    0.0  \n",
              "1  33.398    3.04   0.22   0.01    0.0  \n",
              "2  33.398    2.87   0.22   0.01    0.0  \n",
              "3  33.398    3.04   0.23   0.01    0.0  \n",
              "4  33.409    6.84   0.36   0.08    0.8  "
            ]
          },
          "execution_count": 3,
          "metadata": {},
          "output_type": "execute_result"
        }
      ]
    },
    {
      "cell_type": "code",
      "metadata": {
        "colab": {
          "base_uri": "https://localhost:8080/",
          "height": 297
        },
        "id": "sXdK-g48I8Ih",
        "scrolled": true,
        "outputId": "e55f8550-eab9-4a86-b8f2-f03975ee4251"
      },
      "source": [
        "data_btl.describe()"
      ],
      "execution_count": null,
      "outputs": [
        {
          "data": {
            "text/html": [
              "<div>\n",
              "<style scoped>\n",
              "    .dataframe tbody tr th:only-of-type {\n",
              "        vertical-align: middle;\n",
              "    }\n",
              "\n",
              "    .dataframe tbody tr th {\n",
              "        vertical-align: top;\n",
              "    }\n",
              "\n",
              "    .dataframe thead th {\n",
              "        text-align: right;\n",
              "    }\n",
              "</style>\n",
              "<table border=\"1\" class=\"dataframe\">\n",
              "  <thead>\n",
              "    <tr style=\"text-align: right;\">\n",
              "      <th></th>\n",
              "      <th>Cst_Cnt</th>\n",
              "      <th>latitude</th>\n",
              "      <th>longitude</th>\n",
              "      <th>Btl_Cnt</th>\n",
              "      <th>Depthm</th>\n",
              "      <th>T_degC</th>\n",
              "      <th>Salnty</th>\n",
              "      <th>ChlorA</th>\n",
              "      <th>PO4uM</th>\n",
              "      <th>NO2uM</th>\n",
              "      <th>NO3uM</th>\n",
              "    </tr>\n",
              "  </thead>\n",
              "  <tbody>\n",
              "    <tr>\n",
              "      <th>count</th>\n",
              "      <td>32014.000000</td>\n",
              "      <td>32014.000000</td>\n",
              "      <td>32014.000000</td>\n",
              "      <td>32014.000000</td>\n",
              "      <td>32014.000000</td>\n",
              "      <td>32014.000000</td>\n",
              "      <td>32014.000000</td>\n",
              "      <td>32014.000000</td>\n",
              "      <td>32014.000000</td>\n",
              "      <td>32014.000000</td>\n",
              "      <td>32014.000000</td>\n",
              "    </tr>\n",
              "    <tr>\n",
              "      <th>mean</th>\n",
              "      <td>28704.521178</td>\n",
              "      <td>32.757421</td>\n",
              "      <td>-121.029442</td>\n",
              "      <td>709555.298713</td>\n",
              "      <td>154.673205</td>\n",
              "      <td>11.504198</td>\n",
              "      <td>33.720812</td>\n",
              "      <td>0.458638</td>\n",
              "      <td>1.407170</td>\n",
              "      <td>0.041537</td>\n",
              "      <td>16.237593</td>\n",
              "    </tr>\n",
              "    <tr>\n",
              "      <th>std</th>\n",
              "      <td>363.465410</td>\n",
              "      <td>1.300620</td>\n",
              "      <td>1.942072</td>\n",
              "      <td>10944.053858</td>\n",
              "      <td>147.091699</td>\n",
              "      <td>3.849297</td>\n",
              "      <td>0.360320</td>\n",
              "      <td>0.989607</td>\n",
              "      <td>1.004078</td>\n",
              "      <td>0.087261</td>\n",
              "      <td>14.403165</td>\n",
              "    </tr>\n",
              "    <tr>\n",
              "      <th>min</th>\n",
              "      <td>28108.000000</td>\n",
              "      <td>29.830000</td>\n",
              "      <td>-124.335000</td>\n",
              "      <td>691492.000000</td>\n",
              "      <td>0.000000</td>\n",
              "      <td>3.130000</td>\n",
              "      <td>31.960000</td>\n",
              "      <td>0.000000</td>\n",
              "      <td>0.090000</td>\n",
              "      <td>0.000000</td>\n",
              "      <td>0.000000</td>\n",
              "    </tr>\n",
              "    <tr>\n",
              "      <th>25%</th>\n",
              "      <td>28394.000000</td>\n",
              "      <td>31.911666</td>\n",
              "      <td>-122.665000</td>\n",
              "      <td>700222.250000</td>\n",
              "      <td>40.000000</td>\n",
              "      <td>8.280000</td>\n",
              "      <td>33.440250</td>\n",
              "      <td>0.110000</td>\n",
              "      <td>0.350000</td>\n",
              "      <td>0.000000</td>\n",
              "      <td>0.300000</td>\n",
              "    </tr>\n",
              "    <tr>\n",
              "      <th>50%</th>\n",
              "      <td>28672.000000</td>\n",
              "      <td>32.848333</td>\n",
              "      <td>-121.053333</td>\n",
              "      <td>708736.500000</td>\n",
              "      <td>100.000000</td>\n",
              "      <td>10.990000</td>\n",
              "      <td>33.684000</td>\n",
              "      <td>0.340000</td>\n",
              "      <td>1.330000</td>\n",
              "      <td>0.010000</td>\n",
              "      <td>15.700000</td>\n",
              "    </tr>\n",
              "    <tr>\n",
              "      <th>75%</th>\n",
              "      <td>29010.000000</td>\n",
              "      <td>33.656666</td>\n",
              "      <td>-119.480000</td>\n",
              "      <td>718856.750000</td>\n",
              "      <td>230.000000</td>\n",
              "      <td>14.590000</td>\n",
              "      <td>34.044000</td>\n",
              "      <td>0.481185</td>\n",
              "      <td>2.260000</td>\n",
              "      <td>0.030000</td>\n",
              "      <td>29.100000</td>\n",
              "    </tr>\n",
              "    <tr>\n",
              "      <th>max</th>\n",
              "      <td>29338.000000</td>\n",
              "      <td>36.820000</td>\n",
              "      <td>-117.303333</td>\n",
              "      <td>728476.000000</td>\n",
              "      <td>1319.000000</td>\n",
              "      <td>23.420000</td>\n",
              "      <td>34.543000</td>\n",
              "      <td>31.280000</td>\n",
              "      <td>4.390000</td>\n",
              "      <td>1.390000</td>\n",
              "      <td>43.600000</td>\n",
              "    </tr>\n",
              "  </tbody>\n",
              "</table>\n",
              "</div>"
            ],
            "text/plain": [
              "            Cst_Cnt      latitude     longitude        Btl_Cnt        Depthm  \\\n",
              "count  32014.000000  32014.000000  32014.000000   32014.000000  32014.000000   \n",
              "mean   28704.521178     32.757421   -121.029442  709555.298713    154.673205   \n",
              "std      363.465410      1.300620      1.942072   10944.053858    147.091699   \n",
              "min    28108.000000     29.830000   -124.335000  691492.000000      0.000000   \n",
              "25%    28394.000000     31.911666   -122.665000  700222.250000     40.000000   \n",
              "50%    28672.000000     32.848333   -121.053333  708736.500000    100.000000   \n",
              "75%    29010.000000     33.656666   -119.480000  718856.750000    230.000000   \n",
              "max    29338.000000     36.820000   -117.303333  728476.000000   1319.000000   \n",
              "\n",
              "             T_degC        Salnty        ChlorA         PO4uM         NO2uM  \\\n",
              "count  32014.000000  32014.000000  32014.000000  32014.000000  32014.000000   \n",
              "mean      11.504198     33.720812      0.458638      1.407170      0.041537   \n",
              "std        3.849297      0.360320      0.989607      1.004078      0.087261   \n",
              "min        3.130000     31.960000      0.000000      0.090000      0.000000   \n",
              "25%        8.280000     33.440250      0.110000      0.350000      0.000000   \n",
              "50%       10.990000     33.684000      0.340000      1.330000      0.010000   \n",
              "75%       14.590000     34.044000      0.481185      2.260000      0.030000   \n",
              "max       23.420000     34.543000     31.280000      4.390000      1.390000   \n",
              "\n",
              "              NO3uM  \n",
              "count  32014.000000  \n",
              "mean      16.237593  \n",
              "std       14.403165  \n",
              "min        0.000000  \n",
              "25%        0.300000  \n",
              "50%       15.700000  \n",
              "75%       29.100000  \n",
              "max       43.600000  "
            ]
          },
          "execution_count": 4,
          "metadata": {},
          "output_type": "execute_result"
        }
      ]
    },
    {
      "cell_type": "code",
      "metadata": {
        "colab": {
          "base_uri": "https://localhost:8080/"
        },
        "id": "3VECFCeGI8Ii",
        "outputId": "9d43f6e7-7001-49cc-aeb1-229bc2f0200d"
      },
      "source": [
        "data_btl.info()"
      ],
      "execution_count": null,
      "outputs": [
        {
          "name": "stdout",
          "output_type": "stream",
          "text": [
            "<class 'pandas.core.frame.DataFrame'>\n",
            "Int64Index: 32014 entries, 0 to 32013\n",
            "Data columns (total 12 columns):\n",
            " #   Column     Non-Null Count  Dtype  \n",
            "---  ------     --------------  -----  \n",
            " 0   Cst_Cnt    32014 non-null  int64  \n",
            " 1   Date       32014 non-null  object \n",
            " 2   latitude   32014 non-null  float64\n",
            " 3   longitude  32014 non-null  float64\n",
            " 4   Btl_Cnt    32014 non-null  int64  \n",
            " 5   Depthm     32014 non-null  int64  \n",
            " 6   T_degC     32014 non-null  float64\n",
            " 7   Salnty     32014 non-null  float64\n",
            " 8   ChlorA     32014 non-null  float64\n",
            " 9   PO4uM      32014 non-null  float64\n",
            " 10  NO2uM      32014 non-null  float64\n",
            " 11  NO3uM      32014 non-null  float64\n",
            "dtypes: float64(8), int64(3), object(1)\n",
            "memory usage: 3.2+ MB\n"
          ]
        }
      ]
    },
    {
      "cell_type": "code",
      "metadata": {
        "colab": {
          "base_uri": "https://localhost:8080/"
        },
        "id": "zUZl1NxcI8Ii",
        "outputId": "8f6962c7-c1c5-4e8d-bf20-c775aa541147"
      },
      "source": [
        "mean_lat = data_btl['latitude'].mean()\n",
        "mean_long = data_btl['longitude'].mean()\n",
        "print(mean_lat)\n",
        "print(mean_long)"
      ],
      "execution_count": null,
      "outputs": [
        {
          "name": "stdout",
          "output_type": "stream",
          "text": [
            "32.75742084379031\n",
            "-121.02944196088752\n"
          ]
        }
      ]
    },
    {
      "cell_type": "code",
      "metadata": {
        "id": "rEhRkNJEI8Ii"
      },
      "source": [
        "def generateBaseMap(default_location=[mean_lat, mean_long], default_zoom_start=6):\n",
        "    base_map = folium.Map(location=default_location, control_scale=True, zoom_start=default_zoom_start)\n",
        "    return base_map\n",
        "\n",
        "def AddPinsToMap(data, base_map, color, column):\n",
        "    for i in range(len(data[column])):\n",
        "        tooltip = data[column][i]\n",
        "        folium.Marker([data['latitude'][i], data['longitude'][i]], popup=\"<b>\"+str(data['latitude'][i])[:5]+\",\"+str(data['longitude'][i])[:6]+\"\\n\"+data['Date'][i]+\"\\nCast Count:\"+str(data[column][i])+\"\\n\"+\"</b>\",\n",
        "        icon=folium.Icon(color=color, icon=\"record\"), tooltip=tooltip,\n",
        "    ).add_to(base_map)\n"
      ],
      "execution_count": null,
      "outputs": []
    },
    {
      "cell_type": "code",
      "metadata": {
        "id": "KdOA3p-qI8Ij"
      },
      "source": [
        "data_dpt = data_btl[['latitude', 'longitude', \"Depthm\", 'Date']]"
      ],
      "execution_count": null,
      "outputs": []
    },
    {
      "cell_type": "code",
      "metadata": {
        "id": "eTRjlO0afzVZ",
        "outputId": "739eb61f-4386-4bbf-fbd7-5ad82739405e"
      },
      "source": [
        "data_dpt.head()"
      ],
      "execution_count": null,
      "outputs": [
        {
          "data": {
            "text/html": [
              "<div>\n",
              "<style scoped>\n",
              "    .dataframe tbody tr th:only-of-type {\n",
              "        vertical-align: middle;\n",
              "    }\n",
              "\n",
              "    .dataframe tbody tr th {\n",
              "        vertical-align: top;\n",
              "    }\n",
              "\n",
              "    .dataframe thead th {\n",
              "        text-align: right;\n",
              "    }\n",
              "</style>\n",
              "<table border=\"1\" class=\"dataframe\">\n",
              "  <thead>\n",
              "    <tr style=\"text-align: right;\">\n",
              "      <th></th>\n",
              "      <th>latitude</th>\n",
              "      <th>longitude</th>\n",
              "      <th>Depthm</th>\n",
              "      <th>Date</th>\n",
              "    </tr>\n",
              "  </thead>\n",
              "  <tbody>\n",
              "    <tr>\n",
              "      <th>0</th>\n",
              "      <td>32.953333</td>\n",
              "      <td>-117.306666</td>\n",
              "      <td>0</td>\n",
              "      <td>1996-01-30</td>\n",
              "    </tr>\n",
              "    <tr>\n",
              "      <th>1</th>\n",
              "      <td>32.953333</td>\n",
              "      <td>-117.306666</td>\n",
              "      <td>2</td>\n",
              "      <td>1996-01-30</td>\n",
              "    </tr>\n",
              "    <tr>\n",
              "      <th>2</th>\n",
              "      <td>32.953333</td>\n",
              "      <td>-117.306666</td>\n",
              "      <td>5</td>\n",
              "      <td>1996-01-30</td>\n",
              "    </tr>\n",
              "    <tr>\n",
              "      <th>3</th>\n",
              "      <td>32.953333</td>\n",
              "      <td>-117.306666</td>\n",
              "      <td>10</td>\n",
              "      <td>1996-01-30</td>\n",
              "    </tr>\n",
              "    <tr>\n",
              "      <th>4</th>\n",
              "      <td>32.953333</td>\n",
              "      <td>-117.306666</td>\n",
              "      <td>15</td>\n",
              "      <td>1996-01-30</td>\n",
              "    </tr>\n",
              "  </tbody>\n",
              "</table>\n",
              "</div>"
            ],
            "text/plain": [
              "    latitude   longitude  Depthm        Date\n",
              "0  32.953333 -117.306666       0  1996-01-30\n",
              "1  32.953333 -117.306666       2  1996-01-30\n",
              "2  32.953333 -117.306666       5  1996-01-30\n",
              "3  32.953333 -117.306666      10  1996-01-30\n",
              "4  32.953333 -117.306666      15  1996-01-30"
            ]
          },
          "execution_count": 9,
          "metadata": {},
          "output_type": "execute_result"
        }
      ]
    },
    {
      "cell_type": "code",
      "metadata": {
        "id": "yZ_mr9I1fzVZ",
        "outputId": "32bdf471-1b1b-461b-d835-2a7271f2db7d"
      },
      "source": [
        "data_dpt.describe()"
      ],
      "execution_count": null,
      "outputs": [
        {
          "data": {
            "text/html": [
              "<div>\n",
              "<style scoped>\n",
              "    .dataframe tbody tr th:only-of-type {\n",
              "        vertical-align: middle;\n",
              "    }\n",
              "\n",
              "    .dataframe tbody tr th {\n",
              "        vertical-align: top;\n",
              "    }\n",
              "\n",
              "    .dataframe thead th {\n",
              "        text-align: right;\n",
              "    }\n",
              "</style>\n",
              "<table border=\"1\" class=\"dataframe\">\n",
              "  <thead>\n",
              "    <tr style=\"text-align: right;\">\n",
              "      <th></th>\n",
              "      <th>latitude</th>\n",
              "      <th>longitude</th>\n",
              "      <th>Depthm</th>\n",
              "    </tr>\n",
              "  </thead>\n",
              "  <tbody>\n",
              "    <tr>\n",
              "      <th>count</th>\n",
              "      <td>32014.000000</td>\n",
              "      <td>32014.000000</td>\n",
              "      <td>32014.000000</td>\n",
              "    </tr>\n",
              "    <tr>\n",
              "      <th>mean</th>\n",
              "      <td>32.757421</td>\n",
              "      <td>-121.029442</td>\n",
              "      <td>154.673205</td>\n",
              "    </tr>\n",
              "    <tr>\n",
              "      <th>std</th>\n",
              "      <td>1.300620</td>\n",
              "      <td>1.942072</td>\n",
              "      <td>147.091699</td>\n",
              "    </tr>\n",
              "    <tr>\n",
              "      <th>min</th>\n",
              "      <td>29.830000</td>\n",
              "      <td>-124.335000</td>\n",
              "      <td>0.000000</td>\n",
              "    </tr>\n",
              "    <tr>\n",
              "      <th>25%</th>\n",
              "      <td>31.911666</td>\n",
              "      <td>-122.665000</td>\n",
              "      <td>40.000000</td>\n",
              "    </tr>\n",
              "    <tr>\n",
              "      <th>50%</th>\n",
              "      <td>32.848333</td>\n",
              "      <td>-121.053333</td>\n",
              "      <td>100.000000</td>\n",
              "    </tr>\n",
              "    <tr>\n",
              "      <th>75%</th>\n",
              "      <td>33.656666</td>\n",
              "      <td>-119.480000</td>\n",
              "      <td>230.000000</td>\n",
              "    </tr>\n",
              "    <tr>\n",
              "      <th>max</th>\n",
              "      <td>36.820000</td>\n",
              "      <td>-117.303333</td>\n",
              "      <td>1319.000000</td>\n",
              "    </tr>\n",
              "  </tbody>\n",
              "</table>\n",
              "</div>"
            ],
            "text/plain": [
              "           latitude     longitude        Depthm\n",
              "count  32014.000000  32014.000000  32014.000000\n",
              "mean      32.757421   -121.029442    154.673205\n",
              "std        1.300620      1.942072    147.091699\n",
              "min       29.830000   -124.335000      0.000000\n",
              "25%       31.911666   -122.665000     40.000000\n",
              "50%       32.848333   -121.053333    100.000000\n",
              "75%       33.656666   -119.480000    230.000000\n",
              "max       36.820000   -117.303333   1319.000000"
            ]
          },
          "execution_count": 10,
          "metadata": {},
          "output_type": "execute_result"
        }
      ]
    },
    {
      "cell_type": "code",
      "metadata": {
        "id": "XqBAYgf2fzVa",
        "outputId": "95cec057-8a1b-423d-eefc-1f366168d7f0"
      },
      "source": [
        "data_dpt.info()"
      ],
      "execution_count": null,
      "outputs": [
        {
          "name": "stdout",
          "output_type": "stream",
          "text": [
            "<class 'pandas.core.frame.DataFrame'>\n",
            "Int64Index: 32014 entries, 0 to 32013\n",
            "Data columns (total 4 columns):\n",
            " #   Column     Non-Null Count  Dtype  \n",
            "---  ------     --------------  -----  \n",
            " 0   latitude   32014 non-null  float64\n",
            " 1   longitude  32014 non-null  float64\n",
            " 2   Depthm     32014 non-null  int64  \n",
            " 3   Date       32014 non-null  object \n",
            "dtypes: float64(2), int64(1), object(1)\n",
            "memory usage: 1.2+ MB\n"
          ]
        }
      ]
    },
    {
      "cell_type": "code",
      "metadata": {
        "id": "sabQ4eeuI8Ij",
        "outputId": "247a765f-07fb-48a5-abf1-9df63bc3565e"
      },
      "source": [
        "base_map_Dep_Cnt = generateBaseMap(default_location = [mean_lat, mean_long])\n",
        "HeatMap(data=data_dpt[['latitude', 'longitude', \"Depthm\"]].groupby(['latitude', 'longitude']).sum().reset_index().values.tolist(), radius=8, max_zoom=13).add_to(base_map_Dep_Cnt)\n",
        "AddPinsToMap(data_dpt, base_map_Dep_Cnt, 'orange', \"Depthm\")\n",
        "\n",
        "loc = \"Depth in Meters Pins\"\n",
        "title_html = '''\n",
        "                 <h3 align=\"center\" style=\"font-size:16px\"><b>{}</b></h3>\n",
        "                 '''.format(loc)\n",
        "base_map_Dep_Cnt.get_root().html.add_child(folium.Element(title_html))"
      ],
      "execution_count": null,
      "outputs": [
        {
          "data": {
            "text/plain": [
              "<branca.element.Element at 0x7fd49b7d33d0>"
            ]
          },
          "execution_count": 12,
          "metadata": {},
          "output_type": "execute_result"
        }
      ]
    },
    {
      "cell_type": "code",
      "metadata": {
        "id": "7zYLyYc3gKwy"
      },
      "source": [
        "base_map_Dep_Cnt"
      ],
      "execution_count": null,
      "outputs": []
    },
    {
      "cell_type": "markdown",
      "metadata": {
        "id": "d0LvMXnBI8Il"
      },
      "source": [
        "## Conclusion:\n",
        "\n",
        "Here we can observe a few things like as we move towards sea from the coast, the temperature falls."
      ]
    },
    {
      "cell_type": "code",
      "metadata": {
        "id": "e33Bu4boI8Il"
      },
      "source": [
        ""
      ],
      "execution_count": null,
      "outputs": []
    }
  ]
}
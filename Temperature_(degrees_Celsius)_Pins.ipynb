{
 "cells": [
  {
   "cell_type": "markdown",
   "metadata": {
    "id": "8ONxE6n4I8If"
   },
   "source": [
    "## Description:\n",
    "\n",
    "The program basically focuses on analysis of various features with respect to their location on the map. The data has been observed and cleaned in the starting of the notebook and then it has been visualized through interactive plots at the end.\n",
    "\n",
    "The dataset in this notebook is from 1996 - 2000."
   ]
  },
  {
   "cell_type": "markdown",
   "metadata": {
    "id": "Qnv5K3SoI8Ig"
   },
   "source": [
    "## How to use:\n",
    "\n",
    "The program is pretty simple to use since we're using a markdown. First of all you should have a Jupyter Notebook to open the ipynb or alternatively you can access the file by uploading on google drive. Make sure you have following libraries installed:\n",
    "\n",
    "Pandas\n",
    "\n",
    "Numpy\n",
    "\n",
    "SkLearn\n",
    "\n",
    "Folium"
   ]
  },
  {
   "cell_type": "code",
   "execution_count": 1,
   "metadata": {
    "id": "M3tvwiicI8Ig"
   },
   "outputs": [],
   "source": [
    "import numpy as np\n",
    "import pandas as pd\n",
    "import folium\n",
    "from sklearn import preprocessing\n",
    "from folium.plugins import HeatMap"
   ]
  },
  {
   "cell_type": "code",
   "execution_count": 3,
   "metadata": {
    "id": "FSBAGj1xI8Ig"
   },
   "outputs": [],
   "source": [
    "data_btl = pd.read_csv('cst_btl_FinalDataset.csv')\n",
    "data_btl = data_btl.loc[data_btl['Date']<'2000-01-01']"
   ]
  },
  {
   "cell_type": "code",
   "execution_count": 6,
   "metadata": {
    "colab": {
     "base_uri": "https://localhost:8080/"
    },
    "id": "zUZl1NxcI8Ii",
    "outputId": "8f6962c7-c1c5-4e8d-bf20-c775aa541147"
   },
   "outputs": [
    {
     "name": "stdout",
     "output_type": "stream",
     "text": [
      "32.75742084379031\n",
      "-121.02944196088752\n"
     ]
    }
   ],
   "source": [
    "mean_lat = data_btl['latitude'].mean()\n",
    "mean_long = data_btl['longitude'].mean()\n",
    "print(mean_lat)\n",
    "print(mean_long)"
   ]
  },
  {
   "cell_type": "code",
   "execution_count": 7,
   "metadata": {
    "id": "rEhRkNJEI8Ii"
   },
   "outputs": [],
   "source": [
    "def generateBaseMap(default_location=[mean_lat, mean_long], default_zoom_start=6):\n",
    "    base_map = folium.Map(location=default_location, control_scale=True, zoom_start=default_zoom_start)\n",
    "    return base_map\n",
    "\n",
    "def AddPinsToMap(data, base_map, color, column):\n",
    "    for i in range(len(data[column])):\n",
    "        tooltip = data[column][i]\n",
    "        folium.Marker([data['latitude'][i], data['longitude'][i]], popup=\"<b>\"+str(data['latitude'][i])[:5]+\",\"+str(data['longitude'][i])[:6]+\"\\n\"+data['Date'][i]+\"\\nCast Count:\"+str(data[column][i])+\"\\n\"+\"</b>\",\n",
    "        icon=folium.Icon(color=color, icon=\"record\"), tooltip=tooltip,\n",
    "    ).add_to(base_map)\n"
   ]
  },
  {
   "cell_type": "code",
   "execution_count": 8,
   "metadata": {
    "id": "TVx1La-LI8Ik"
   },
   "outputs": [],
   "source": [
    "data_TdegC = data_btl[['latitude', 'longitude', \"T_degC\", 'Date']]"
   ]
  },
  {
   "cell_type": "code",
   "execution_count": 9,
   "metadata": {
    "id": "fVYaTNiPRwNu",
    "outputId": "5b80dabd-f3b1-4853-e6a2-2a595c1b5483"
   },
   "outputs": [
    {
     "data": {
      "text/html": [
       "<div>\n",
       "<style scoped>\n",
       "    .dataframe tbody tr th:only-of-type {\n",
       "        vertical-align: middle;\n",
       "    }\n",
       "\n",
       "    .dataframe tbody tr th {\n",
       "        vertical-align: top;\n",
       "    }\n",
       "\n",
       "    .dataframe thead th {\n",
       "        text-align: right;\n",
       "    }\n",
       "</style>\n",
       "<table border=\"1\" class=\"dataframe\">\n",
       "  <thead>\n",
       "    <tr style=\"text-align: right;\">\n",
       "      <th></th>\n",
       "      <th>latitude</th>\n",
       "      <th>longitude</th>\n",
       "      <th>T_degC</th>\n",
       "      <th>Date</th>\n",
       "    </tr>\n",
       "  </thead>\n",
       "  <tbody>\n",
       "    <tr>\n",
       "      <th>0</th>\n",
       "      <td>32.953333</td>\n",
       "      <td>-117.306666</td>\n",
       "      <td>13.86</td>\n",
       "      <td>1996-01-30</td>\n",
       "    </tr>\n",
       "    <tr>\n",
       "      <th>1</th>\n",
       "      <td>32.953333</td>\n",
       "      <td>-117.306666</td>\n",
       "      <td>13.86</td>\n",
       "      <td>1996-01-30</td>\n",
       "    </tr>\n",
       "    <tr>\n",
       "      <th>2</th>\n",
       "      <td>32.953333</td>\n",
       "      <td>-117.306666</td>\n",
       "      <td>13.85</td>\n",
       "      <td>1996-01-30</td>\n",
       "    </tr>\n",
       "    <tr>\n",
       "      <th>3</th>\n",
       "      <td>32.953333</td>\n",
       "      <td>-117.306666</td>\n",
       "      <td>13.75</td>\n",
       "      <td>1996-01-30</td>\n",
       "    </tr>\n",
       "    <tr>\n",
       "      <th>4</th>\n",
       "      <td>32.953333</td>\n",
       "      <td>-117.306666</td>\n",
       "      <td>13.33</td>\n",
       "      <td>1996-01-30</td>\n",
       "    </tr>\n",
       "  </tbody>\n",
       "</table>\n",
       "</div>"
      ],
      "text/plain": [
       "    latitude   longitude  T_degC        Date\n",
       "0  32.953333 -117.306666   13.86  1996-01-30\n",
       "1  32.953333 -117.306666   13.86  1996-01-30\n",
       "2  32.953333 -117.306666   13.85  1996-01-30\n",
       "3  32.953333 -117.306666   13.75  1996-01-30\n",
       "4  32.953333 -117.306666   13.33  1996-01-30"
      ]
     },
     "execution_count": 9,
     "metadata": {},
     "output_type": "execute_result"
    }
   ],
   "source": [
    "data_TdegC.head()"
   ]
  },
  {
   "cell_type": "code",
   "execution_count": 10,
   "metadata": {
    "id": "6gkPOm9LRwNu",
    "outputId": "5b404c52-b519-4185-badd-ee4bfe4fe540"
   },
   "outputs": [
    {
     "data": {
      "text/html": [
       "<div>\n",
       "<style scoped>\n",
       "    .dataframe tbody tr th:only-of-type {\n",
       "        vertical-align: middle;\n",
       "    }\n",
       "\n",
       "    .dataframe tbody tr th {\n",
       "        vertical-align: top;\n",
       "    }\n",
       "\n",
       "    .dataframe thead th {\n",
       "        text-align: right;\n",
       "    }\n",
       "</style>\n",
       "<table border=\"1\" class=\"dataframe\">\n",
       "  <thead>\n",
       "    <tr style=\"text-align: right;\">\n",
       "      <th></th>\n",
       "      <th>latitude</th>\n",
       "      <th>longitude</th>\n",
       "      <th>T_degC</th>\n",
       "    </tr>\n",
       "  </thead>\n",
       "  <tbody>\n",
       "    <tr>\n",
       "      <th>count</th>\n",
       "      <td>32014.000000</td>\n",
       "      <td>32014.000000</td>\n",
       "      <td>32014.000000</td>\n",
       "    </tr>\n",
       "    <tr>\n",
       "      <th>mean</th>\n",
       "      <td>32.757421</td>\n",
       "      <td>-121.029442</td>\n",
       "      <td>11.504198</td>\n",
       "    </tr>\n",
       "    <tr>\n",
       "      <th>std</th>\n",
       "      <td>1.300620</td>\n",
       "      <td>1.942072</td>\n",
       "      <td>3.849297</td>\n",
       "    </tr>\n",
       "    <tr>\n",
       "      <th>min</th>\n",
       "      <td>29.830000</td>\n",
       "      <td>-124.335000</td>\n",
       "      <td>3.130000</td>\n",
       "    </tr>\n",
       "    <tr>\n",
       "      <th>25%</th>\n",
       "      <td>31.911666</td>\n",
       "      <td>-122.665000</td>\n",
       "      <td>8.280000</td>\n",
       "    </tr>\n",
       "    <tr>\n",
       "      <th>50%</th>\n",
       "      <td>32.848333</td>\n",
       "      <td>-121.053333</td>\n",
       "      <td>10.990000</td>\n",
       "    </tr>\n",
       "    <tr>\n",
       "      <th>75%</th>\n",
       "      <td>33.656666</td>\n",
       "      <td>-119.480000</td>\n",
       "      <td>14.590000</td>\n",
       "    </tr>\n",
       "    <tr>\n",
       "      <th>max</th>\n",
       "      <td>36.820000</td>\n",
       "      <td>-117.303333</td>\n",
       "      <td>23.420000</td>\n",
       "    </tr>\n",
       "  </tbody>\n",
       "</table>\n",
       "</div>"
      ],
      "text/plain": [
       "           latitude     longitude        T_degC\n",
       "count  32014.000000  32014.000000  32014.000000\n",
       "mean      32.757421   -121.029442     11.504198\n",
       "std        1.300620      1.942072      3.849297\n",
       "min       29.830000   -124.335000      3.130000\n",
       "25%       31.911666   -122.665000      8.280000\n",
       "50%       32.848333   -121.053333     10.990000\n",
       "75%       33.656666   -119.480000     14.590000\n",
       "max       36.820000   -117.303333     23.420000"
      ]
     },
     "execution_count": 10,
     "metadata": {},
     "output_type": "execute_result"
    }
   ],
   "source": [
    "data_TdegC.describe()"
   ]
  },
  {
   "cell_type": "code",
   "execution_count": 11,
   "metadata": {
    "id": "z4f0zHCII8Ik",
    "outputId": "c70f4beb-6439-4420-fb67-cbbe19dddcca"
   },
   "outputs": [
    {
     "data": {
      "text/plain": [
       "<branca.element.Element at 0x7f95eaf91390>"
      ]
     },
     "execution_count": 11,
     "metadata": {},
     "output_type": "execute_result"
    }
   ],
   "source": [
    "base_map_TdegC = generateBaseMap(default_location = [mean_lat, mean_long])\n",
    "HeatMap(data=data_TdegC[['latitude', 'longitude', \"T_degC\"]].groupby(['latitude', 'longitude']).sum().reset_index().values.tolist(), radius=8, max_zoom=13).add_to(base_map_TdegC)\n",
    "AddPinsToMap(data_TdegC, base_map_TdegC, 'green', \"T_degC\")\n",
    "\n",
    "loc = \"Temperature (degrees Celsius) Pins\"\n",
    "title_html = '''\n",
    "                 <h3 align=\"center\" style=\"font-size:16px\"><b>{}</b></h3>\n",
    "                 '''.format(loc)\n",
    "base_map_TdegC.get_root().html.add_child(folium.Element(title_html))"
   ]
  },
  {
   "cell_type": "code",
   "execution_count": null,
   "metadata": {
    "id": "oyV8ohBivZJX"
   },
   "outputs": [],
   "source": [
    "base_map_TdegC"
   ]
  },
  {
   "cell_type": "markdown",
   "metadata": {
    "id": "d0LvMXnBI8Il"
   },
   "source": [
    "## Conclusion:\n",
    "\n",
    "Here we can observe a few things like as we move towards sea from the coast, the temperature falls."
   ]
  },
  {
   "cell_type": "code",
   "execution_count": null,
   "metadata": {},
   "outputs": [],
   "source": []
  }
 ],
 "metadata": {
  "accelerator": "GPU",
  "colab": {
   "collapsed_sections": [],
   "name": "Temperature_(degrees_Celsius)_Pins.ipynb",
   "provenance": []
  },
  "kernelspec": {
   "display_name": "Python 3",
   "language": "python",
   "name": "python3"
  },
  "language_info": {
   "codemirror_mode": {
    "name": "ipython",
    "version": 3
   },
   "file_extension": ".py",
   "mimetype": "text/x-python",
   "name": "python",
   "nbconvert_exporter": "python",
   "pygments_lexer": "ipython3",
   "version": "3.7.9"
  }
 },
 "nbformat": 4,
 "nbformat_minor": 1
}
